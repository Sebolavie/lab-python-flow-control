{
 "cells": [
  {
   "cell_type": "markdown",
   "id": "d3bfc191-8885-42ee-b0a0-bbab867c6f9f",
   "metadata": {
    "tags": []
   },
   "source": [
    "# Lab | Flow Control"
   ]
  },
  {
   "cell_type": "code",
   "execution_count": 2,
   "id": "9d229497-f95e-4dfe-95bb-3e840afb796c",
   "metadata": {},
   "outputs": [
    {
     "name": "stdin",
     "output_type": "stream",
     "text": [
      "Enter the quantity for t-shirt:  1\n",
      "Enter the quantity for mug:  2\n",
      "Enter the quantity for hat:  3\n",
      "Enter the quantity for book:  4\n",
      "Enter the quantity for keychain:  5\n"
     ]
    },
    {
     "name": "stdout",
     "output_type": "stream",
     "text": [
      "Inventory: {'t-shirt': 1, 'mug': 2, 'hat': 3, 'book': 4, 'keychain': 5}\n"
     ]
    }
   ],
   "source": [
    "products= [\"t-shirt\", \"mug\", \"hat\", \"book\", \"keychain\"]\n",
    "\n",
    "inventory={}\n",
    "\n",
    "for product in products:\n",
    "    quantity=int(input(f\"enter the quantity for {product}\"))\n",
    "    inventory[product]=quantity\n",
    "\n",
    "print(\"Inventory is: \", inventory) \n",
    "\n",
    "#customer order\n",
    "customer_orders= set()\n",
    "\n",
    "additional_order ==\"y\"\n",
    "\n",
    "while additional_order ==\"y\":\n",
    "    new_product=input(\"what do wou want to buy?\")\n",
    "    customer_orders.add(new_product)\n",
    "\n",
    "    additional_order=input(\"Would you like to add more items. Y/N?\").lower()\n",
    "    \n",
    "\n",
    "# for or while loop. 1) what do you want to buy, answer: hat, add hat to customer order, \n",
    "#2) do you want to add Y/N, is answer is yes. continue, if no exist loop\n",
    "\n",
    "#customer_orders = set(input(\"What does the customer like to order?\").split())\n",
    "\n",
    "#additional_order=input(\"Would you like to add more items. Y/N?\").lower()\n",
    "#if additional_order ==\"y\":\n",
    "    #additional_orders = set(input(\"What does the customer like to add? \").split())\n",
    "    #customer_orders.update(additional_orders)\n",
    "#print (\"Customer orders: \", customer_orders)\n",
    "\n",
    "#update inventory \n",
    "\n",
    "for item in customer_orders:\n",
    "    if item in inventory:\n",
    "        inventory [item]-=1\n",
    "\n"
   ]
  },
  {
   "cell_type": "code",
   "execution_count": null,
   "id": "5b6d7400-6f4f-4ca5-9337-0701f0cd88f6",
   "metadata": {},
   "outputs": [],
   "source": [
    "\n",
    "\n"
   ]
  },
  {
   "cell_type": "markdown",
   "id": "3851fcd1-cf98-4653-9c89-e003b7ec9400",
   "metadata": {},
   "source": [
    "## Exercise: Managing Customer Orders Optimized\n",
    "\n",
    "In the last lab, you were starting an online store that sells various products. To ensure smooth operations, you developed a program that manages customer orders and inventory.\n",
    "\n",
    "You did so without using flow control. Let's go a step further and improve this code.\n",
    "\n",
    "Follow the steps below to complete the exercise:\n",
    "\n",
    "1. Look at your code from the lab data structures, and improve repeated code with loops.\n",
    "\n",
    "2. Instead of asking the user to input the name of three products that a customer wants to order, do the following:\n",
    "    \n",
    "    a. Prompt the user to enter the name of a product that a customer wants to order.\n",
    "    \n",
    "    b. Add the product name to the \"customer_orders\" set.\n",
    "    \n",
    "    c. Ask the user if they want to add another product (yes/no).\n",
    "    \n",
    "    d. Continue the loop until the user does not want to add another product.\n",
    "\n",
    "3. Instead of updating the inventory by subtracting 1 from the quantity of each product, only do it for  the products that were ordered (those in \"customer_orders\")."
   ]
  }
 ],
 "metadata": {
  "kernelspec": {
   "display_name": "Python 3 (ipykernel)",
   "language": "python",
   "name": "python3"
  },
  "language_info": {
   "codemirror_mode": {
    "name": "ipython",
    "version": 3
   },
   "file_extension": ".py",
   "mimetype": "text/x-python",
   "name": "python",
   "nbconvert_exporter": "python",
   "pygments_lexer": "ipython3",
   "version": "3.11.7"
  }
 },
 "nbformat": 4,
 "nbformat_minor": 5
}
